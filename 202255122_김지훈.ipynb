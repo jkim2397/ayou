{
  "nbformat": 4,
  "nbformat_minor": 0,
  "metadata": {
    "colab": {
      "name": "202255122_김지훈",
      "provenance": [],
      "authorship_tag": "ABX9TyNNZ/xYn7RH8IvqkHvlqVlG",
      "include_colab_link": true
    },
    "kernelspec": {
      "name": "python3",
      "display_name": "Python 3"
    },
    "language_info": {
      "name": "python"
    }
  },
  "cells": [
    {
      "cell_type": "markdown",
      "metadata": {
        "id": "view-in-github",
        "colab_type": "text"
      },
      "source": [
        "<a href=\"https://colab.research.google.com/github/jkim2397/ayou/blob/main/202255122_%EA%B9%80%EC%A7%80%ED%9B%88.ipynb\" target=\"_parent\"><img src=\"https://colab.research.google.com/assets/colab-badge.svg\" alt=\"Open In Colab\"/></a>"
      ]
    },
    {
      "cell_type": "code",
      "execution_count": null,
      "metadata": {
        "id": "SfxBCbz-EZgB"
      },
      "outputs": [],
      "source": [
        "import csv\n",
        "import requests\n",
        "from bs4 import BeautifulSoup\n",
        "\n",
        "url =\"https://comic.naver.com/webtoon/weekday\"\n",
        "\n",
        "filename = \"네이버 웹툰 인기 순위.csv\"\n",
        "f = open(filename, \"w\", encoding=\"utf-8-sig\", newline=\"\")\n",
        "writer = csv.writer(f)\n",
        "\n",
        "columns_name = [\"순위\", \"웹툰명\"] \n",
        "\n",
        "writer.writerow(columns_name)\n",
        "\n",
        "\n",
        "res = requests.get(url)\n",
        "res.raise_for_status()\n",
        "\n",
        "soup = BeautifulSoup(res.text, \"lxml\")\n",
        "cartoonsBox = soup.find('ol', attrs={\"class\": \"asideBoxRank\"}) \n",
        "cartoons = cartoonsBox.find_all('a') \n",
        "\n",
        "for cartoon in cartoons: \n",
        "  \n",
        "  title = cartoon.get(\"title\") \n",
        "\n",
        "i=0\n",
        "for cartoon in cartoons: \n",
        "  title = cartoon.get(\"title\") \n",
        "  print(f\"{str(i)}위: {title}\")\n",
        "  data = [str(i), title]\n",
        "  writer.writerow(data)\n",
        "  i += 1"
      ]
    }
  ]
}