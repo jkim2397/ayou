{
  "cells": [
    {
      "cell_type": "markdown",
      "metadata": {
        "id": "view-in-github",
        "colab_type": "text"
      },
      "source": [
        "<a href=\"https://colab.research.google.com/github/jkim2397/ayou/blob/main/202255140_%EC%86%8C%EC%98%88%ED%9B%88.ipynb\" target=\"_parent\"><img src=\"https://colab.research.google.com/assets/colab-badge.svg\" alt=\"Open In Colab\"/></a>"
      ]
    },
    {
      "cell_type": "code",
      "source": [
        "from google.colab import drive\n",
        "drive.mount('/content/drive')"
      ],
      "metadata": {
        "id": "wA0GiJ65N0lv"
      },
      "execution_count": null,
      "outputs": []
    },
    {
      "cell_type": "code",
      "source": [
        "cd \"/content/drive/My Drive/\""
      ],
      "metadata": {
        "colab": {
          "base_uri": "https://localhost:8080/"
        },
        "id": "ht-bmAr-OMty",
        "outputId": "cb6d1f9e-2e7e-4fe0-a3fe-6b161673a93d"
      },
      "execution_count": 8,
      "outputs": [
        {
          "output_type": "stream",
          "name": "stdout",
          "text": [
            "/content/drive/My Drive\n"
          ]
        }
      ]
    },
    {
      "cell_type": "code",
      "source": [
        "! git clone https://github.com/jkim2397/ayou.git"
      ],
      "metadata": {
        "id": "BQg_UL0OOU3D"
      },
      "execution_count": null,
      "outputs": []
    },
    {
      "cell_type": "code",
      "execution_count": null,
      "metadata": {
        "id": "lTT7vMUiif25"
      },
      "outputs": [],
      "source": [
        "import csv\n",
        "import requests\n",
        "from bs4 import BeautifulSoup\n",
        "\n",
        "url =\"https://comic.naver.com/webtoon/weekday\"\n",
        "\n",
        "\n",
        "filename = \"네이버 웹툰 인기 순위.csv\"\n",
        "f = open(filename, \"w\", encoding=\"utf-8-sig\", newline=\"\")\n",
        "writer = csv.writer(f)\n",
        "\n",
        "columns_name = [\"순위\", \"웹툰명\"] \n",
        "\n",
        "writer.writerow(columns_name)\n",
        "\n",
        "\n",
        "res = requests.get(url)\n",
        "res.raise_for_status()\n",
        "\n",
        "\n",
        "soup = BeautifulSoup(res.text, \"lxml\")\n",
        "cartoonsBox = soup.find('ol', attrs={\"class\": \"asideBoxRank\"}) \n",
        "cartoons = cartoonsBox.find_all('a') \n",
        "\n",
        "\n",
        "for cartoon in cartoons: \n",
        "  \n",
        "  title = cartoon.get(\"title\") \n",
        "  \n",
        "  \n",
        "  i=int(input(\"순위를 입력하세요 :\"))\n",
        "  data = [str(i), title]\n",
        "  writer.writerow(data)\n",
        "  print(cartoons[i-1].get_text())\n",
        "  "
      ]
    }
  ],
  "metadata": {
    "colab": {
      "collapsed_sections": [],
      "name": "202255140-소예훈.ipynb",
      "provenance": [],
      "authorship_tag": "ABX9TyNIc2ofwSUNkLfX+njGdfEv",
      "include_colab_link": true
    },
    "kernelspec": {
      "display_name": "Python 3",
      "name": "python3"
    },
    "language_info": {
      "name": "python"
    }
  },
  "nbformat": 4,
  "nbformat_minor": 0
}